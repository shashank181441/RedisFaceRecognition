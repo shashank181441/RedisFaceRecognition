{
 "cells": [
  {
   "cell_type": "markdown",
   "id": "4c3b608f",
   "metadata": {},
   "source": [
    "### Save and Retrive Data from Redis\n",
    "- https://redis.com/"
   ]
  },
  {
   "cell_type": "code",
   "execution_count": 113,
   "id": "652d146e",
   "metadata": {},
   "outputs": [],
   "source": [
    "import numpy as np\n",
    "import pandas as pd\n",
    "import redis"
   ]
  },
  {
   "cell_type": "code",
   "execution_count": 114,
   "id": "277ea4df",
   "metadata": {},
   "outputs": [],
   "source": [
    "# Connect to Redis Client\n",
    "# redis-18692.c57.us-east-1-4.ec2.cloud.redislabs.com:18692\n",
    "# wCneC8tYJRuw0ovU9Kacbr9kgY4UmQdb\n",
    "hostname = 'redis-12084.c301.ap-south-1-1.ec2.cloud.redislabs.com'\n",
    "portnumber = 12084\n",
    "password = 'HnYyQx7B7hqPWS0OvE45nVAMm48xzkRd'\n",
    "\n",
    "r = redis.StrictRedis(host=hostname,\n",
    "                      port=portnumber,\n",
    "                      password=password)\n"
   ]
  },
  {
   "cell_type": "code",
   "execution_count": 115,
   "id": "95de976e",
   "metadata": {},
   "outputs": [
    {
     "data": {
      "text/plain": [
       "True"
      ]
     },
     "execution_count": 115,
     "metadata": {},
     "output_type": "execute_result"
    }
   ],
   "source": [
    "r.ping()"
   ]
  },
  {
   "cell_type": "code",
   "execution_count": 116,
   "id": "c463ce0f",
   "metadata": {},
   "outputs": [
    {
     "data": {
      "text/plain": [
       "[b'mylist',\n",
       " b'MESSAGE',\n",
       " b'mykey1',\n",
       " b'academy:register',\n",
       " b'KEY',\n",
       " b'mystr',\n",
       " b'for']"
      ]
     },
     "execution_count": 116,
     "metadata": {},
     "output_type": "execute_result"
    }
   ],
   "source": [
    "r.keys()"
   ]
  },
  {
   "cell_type": "markdown",
   "id": "6e429fd3",
   "metadata": {},
   "source": [
    "#### Load the data (numpy zip)"
   ]
  },
  {
   "cell_type": "code",
   "execution_count": 117,
   "id": "5bae9d33",
   "metadata": {},
   "outputs": [
    {
     "data": {
      "text/html": [
       "<div>\n",
       "<style scoped>\n",
       "    .dataframe tbody tr th:only-of-type {\n",
       "        vertical-align: middle;\n",
       "    }\n",
       "\n",
       "    .dataframe tbody tr th {\n",
       "        vertical-align: top;\n",
       "    }\n",
       "\n",
       "    .dataframe thead th {\n",
       "        text-align: right;\n",
       "    }\n",
       "</style>\n",
       "<table border=\"1\" class=\"dataframe\">\n",
       "  <thead>\n",
       "    <tr style=\"text-align: right;\">\n",
       "      <th></th>\n",
       "      <th>Name</th>\n",
       "      <th>Role</th>\n",
       "      <th>Facial_Features</th>\n",
       "    </tr>\n",
       "  </thead>\n",
       "  <tbody>\n",
       "    <tr>\n",
       "      <th>0</th>\n",
       "      <td>Aashutosh</td>\n",
       "      <td>Student</td>\n",
       "      <td>[-0.036052156, -0.308354, 0.046328023, 1.67468...</td>\n",
       "    </tr>\n",
       "    <tr>\n",
       "      <th>1</th>\n",
       "      <td>Angelina Jolie</td>\n",
       "      <td>Student</td>\n",
       "      <td>[0.43222705, 1.0748217, -0.12857997, -1.833244...</td>\n",
       "    </tr>\n",
       "    <tr>\n",
       "      <th>2</th>\n",
       "      <td>Ashish</td>\n",
       "      <td>Student</td>\n",
       "      <td>[0.1670312, -1.149379, 0.41227043, 1.351386, 0...</td>\n",
       "    </tr>\n",
       "    <tr>\n",
       "      <th>3</th>\n",
       "      <td>Barack Obama</td>\n",
       "      <td>Teacher</td>\n",
       "      <td>[0.94860345, -0.5583488, 0.0948473, -1.2796339...</td>\n",
       "    </tr>\n",
       "    <tr>\n",
       "      <th>4</th>\n",
       "      <td>Chris Evans</td>\n",
       "      <td>Student</td>\n",
       "      <td>[0.72012293, -1.4683535, -0.7775747, -1.460268...</td>\n",
       "    </tr>\n",
       "    <tr>\n",
       "      <th>5</th>\n",
       "      <td>Morgan Freeman</td>\n",
       "      <td>Teacher</td>\n",
       "      <td>[0.4857933, -0.6193172, -0.4072945, 1.068671, ...</td>\n",
       "    </tr>\n",
       "    <tr>\n",
       "      <th>6</th>\n",
       "      <td>Om</td>\n",
       "      <td>Student</td>\n",
       "      <td>[1.7085426, -0.7759952, -0.22737093, -1.247895...</td>\n",
       "    </tr>\n",
       "    <tr>\n",
       "      <th>7</th>\n",
       "      <td>Prashraya</td>\n",
       "      <td>Student</td>\n",
       "      <td>[-0.8314713, -0.336633, 0.79281545, -0.1401238...</td>\n",
       "    </tr>\n",
       "    <tr>\n",
       "      <th>8</th>\n",
       "      <td>Rajan</td>\n",
       "      <td>Student</td>\n",
       "      <td>[-0.24466082, -1.858166, -1.2051669, 0.7937251...</td>\n",
       "    </tr>\n",
       "    <tr>\n",
       "      <th>9</th>\n",
       "      <td>Rajesh</td>\n",
       "      <td>Student</td>\n",
       "      <td>[0.76098776, -0.24004512, -1.8921047, -1.49513...</td>\n",
       "    </tr>\n",
       "    <tr>\n",
       "      <th>10</th>\n",
       "      <td>Scarlett Johansson</td>\n",
       "      <td>Student</td>\n",
       "      <td>[0.1913062, -0.48871636, -1.6904204, 0.4424574...</td>\n",
       "    </tr>\n",
       "    <tr>\n",
       "      <th>11</th>\n",
       "      <td>Shashank</td>\n",
       "      <td>Student</td>\n",
       "      <td>[1.7198377, -1.3376671, 0.065668054, 0.1987096...</td>\n",
       "    </tr>\n",
       "    <tr>\n",
       "      <th>12</th>\n",
       "      <td>Shital</td>\n",
       "      <td>Student</td>\n",
       "      <td>[0.20928195, 0.084583424, 0.3257966, -0.381223...</td>\n",
       "    </tr>\n",
       "    <tr>\n",
       "      <th>13</th>\n",
       "      <td>Suraj</td>\n",
       "      <td>Student</td>\n",
       "      <td>[0.8105346, -0.6660106, 1.5781848, 0.5816831, ...</td>\n",
       "    </tr>\n",
       "  </tbody>\n",
       "</table>\n",
       "</div>"
      ],
      "text/plain": [
       "                  Name     Role   \n",
       "0            Aashutosh  Student  \\\n",
       "1       Angelina Jolie  Student   \n",
       "2               Ashish  Student   \n",
       "3         Barack Obama  Teacher   \n",
       "4          Chris Evans  Student   \n",
       "5       Morgan Freeman  Teacher   \n",
       "6                   Om  Student   \n",
       "7            Prashraya  Student   \n",
       "8                Rajan  Student   \n",
       "9               Rajesh  Student   \n",
       "10  Scarlett Johansson  Student   \n",
       "11            Shashank  Student   \n",
       "12              Shital  Student   \n",
       "13               Suraj  Student   \n",
       "\n",
       "                                      Facial_Features  \n",
       "0   [-0.036052156, -0.308354, 0.046328023, 1.67468...  \n",
       "1   [0.43222705, 1.0748217, -0.12857997, -1.833244...  \n",
       "2   [0.1670312, -1.149379, 0.41227043, 1.351386, 0...  \n",
       "3   [0.94860345, -0.5583488, 0.0948473, -1.2796339...  \n",
       "4   [0.72012293, -1.4683535, -0.7775747, -1.460268...  \n",
       "5   [0.4857933, -0.6193172, -0.4072945, 1.068671, ...  \n",
       "6   [1.7085426, -0.7759952, -0.22737093, -1.247895...  \n",
       "7   [-0.8314713, -0.336633, 0.79281545, -0.1401238...  \n",
       "8   [-0.24466082, -1.858166, -1.2051669, 0.7937251...  \n",
       "9   [0.76098776, -0.24004512, -1.8921047, -1.49513...  \n",
       "10  [0.1913062, -0.48871636, -1.6904204, 0.4424574...  \n",
       "11  [1.7198377, -1.3376671, 0.065668054, 0.1987096...  \n",
       "12  [0.20928195, 0.084583424, 0.3257966, -0.381223...  \n",
       "13  [0.8105346, -0.6660106, 1.5781848, 0.5816831, ...  "
      ]
     },
     "execution_count": 117,
     "metadata": {},
     "output_type": "execute_result"
    }
   ],
   "source": [
    "np_file = np.load('dataframe_students_teacher.npz',allow_pickle=True)\n",
    "x_values = np_file['arr_0']\n",
    "col_names = np_file['arr_1']\n",
    "\n",
    "df = pd.DataFrame(x_values,columns=col_names)\n",
    "df"
   ]
  },
  {
   "cell_type": "code",
   "execution_count": 118,
   "id": "6cc70e26",
   "metadata": {},
   "outputs": [
    {
     "data": {
      "text/html": [
       "<div>\n",
       "<style scoped>\n",
       "    .dataframe tbody tr th:only-of-type {\n",
       "        vertical-align: middle;\n",
       "    }\n",
       "\n",
       "    .dataframe tbody tr th {\n",
       "        vertical-align: top;\n",
       "    }\n",
       "\n",
       "    .dataframe thead th {\n",
       "        text-align: right;\n",
       "    }\n",
       "</style>\n",
       "<table border=\"1\" class=\"dataframe\">\n",
       "  <thead>\n",
       "    <tr style=\"text-align: right;\">\n",
       "      <th></th>\n",
       "      <th>Name</th>\n",
       "      <th>Role</th>\n",
       "      <th>Facial_Features</th>\n",
       "      <th>name_role</th>\n",
       "    </tr>\n",
       "  </thead>\n",
       "  <tbody>\n",
       "    <tr>\n",
       "      <th>0</th>\n",
       "      <td>Aashutosh</td>\n",
       "      <td>Student</td>\n",
       "      <td>[-0.036052156, -0.308354, 0.046328023, 1.67468...</td>\n",
       "      <td>Aashutosh@Student</td>\n",
       "    </tr>\n",
       "    <tr>\n",
       "      <th>1</th>\n",
       "      <td>Angelina Jolie</td>\n",
       "      <td>Student</td>\n",
       "      <td>[0.43222705, 1.0748217, -0.12857997, -1.833244...</td>\n",
       "      <td>Angelina Jolie@Student</td>\n",
       "    </tr>\n",
       "    <tr>\n",
       "      <th>2</th>\n",
       "      <td>Ashish</td>\n",
       "      <td>Student</td>\n",
       "      <td>[0.1670312, -1.149379, 0.41227043, 1.351386, 0...</td>\n",
       "      <td>Ashish@Student</td>\n",
       "    </tr>\n",
       "    <tr>\n",
       "      <th>3</th>\n",
       "      <td>Barack Obama</td>\n",
       "      <td>Teacher</td>\n",
       "      <td>[0.94860345, -0.5583488, 0.0948473, -1.2796339...</td>\n",
       "      <td>Barack Obama@Teacher</td>\n",
       "    </tr>\n",
       "    <tr>\n",
       "      <th>4</th>\n",
       "      <td>Chris Evans</td>\n",
       "      <td>Student</td>\n",
       "      <td>[0.72012293, -1.4683535, -0.7775747, -1.460268...</td>\n",
       "      <td>Chris Evans@Student</td>\n",
       "    </tr>\n",
       "    <tr>\n",
       "      <th>5</th>\n",
       "      <td>Morgan Freeman</td>\n",
       "      <td>Teacher</td>\n",
       "      <td>[0.4857933, -0.6193172, -0.4072945, 1.068671, ...</td>\n",
       "      <td>Morgan Freeman@Teacher</td>\n",
       "    </tr>\n",
       "    <tr>\n",
       "      <th>6</th>\n",
       "      <td>Om</td>\n",
       "      <td>Student</td>\n",
       "      <td>[1.7085426, -0.7759952, -0.22737093, -1.247895...</td>\n",
       "      <td>Om@Student</td>\n",
       "    </tr>\n",
       "    <tr>\n",
       "      <th>7</th>\n",
       "      <td>Prashraya</td>\n",
       "      <td>Student</td>\n",
       "      <td>[-0.8314713, -0.336633, 0.79281545, -0.1401238...</td>\n",
       "      <td>Prashraya@Student</td>\n",
       "    </tr>\n",
       "    <tr>\n",
       "      <th>8</th>\n",
       "      <td>Rajan</td>\n",
       "      <td>Student</td>\n",
       "      <td>[-0.24466082, -1.858166, -1.2051669, 0.7937251...</td>\n",
       "      <td>Rajan@Student</td>\n",
       "    </tr>\n",
       "    <tr>\n",
       "      <th>9</th>\n",
       "      <td>Rajesh</td>\n",
       "      <td>Student</td>\n",
       "      <td>[0.76098776, -0.24004512, -1.8921047, -1.49513...</td>\n",
       "      <td>Rajesh@Student</td>\n",
       "    </tr>\n",
       "    <tr>\n",
       "      <th>10</th>\n",
       "      <td>Scarlett Johansson</td>\n",
       "      <td>Student</td>\n",
       "      <td>[0.1913062, -0.48871636, -1.6904204, 0.4424574...</td>\n",
       "      <td>Scarlett Johansson@Student</td>\n",
       "    </tr>\n",
       "    <tr>\n",
       "      <th>11</th>\n",
       "      <td>Shashank</td>\n",
       "      <td>Student</td>\n",
       "      <td>[1.7198377, -1.3376671, 0.065668054, 0.1987096...</td>\n",
       "      <td>Shashank@Student</td>\n",
       "    </tr>\n",
       "    <tr>\n",
       "      <th>12</th>\n",
       "      <td>Shital</td>\n",
       "      <td>Student</td>\n",
       "      <td>[0.20928195, 0.084583424, 0.3257966, -0.381223...</td>\n",
       "      <td>Shital@Student</td>\n",
       "    </tr>\n",
       "    <tr>\n",
       "      <th>13</th>\n",
       "      <td>Suraj</td>\n",
       "      <td>Student</td>\n",
       "      <td>[0.8105346, -0.6660106, 1.5781848, 0.5816831, ...</td>\n",
       "      <td>Suraj@Student</td>\n",
       "    </tr>\n",
       "  </tbody>\n",
       "</table>\n",
       "</div>"
      ],
      "text/plain": [
       "                  Name     Role   \n",
       "0            Aashutosh  Student  \\\n",
       "1       Angelina Jolie  Student   \n",
       "2               Ashish  Student   \n",
       "3         Barack Obama  Teacher   \n",
       "4          Chris Evans  Student   \n",
       "5       Morgan Freeman  Teacher   \n",
       "6                   Om  Student   \n",
       "7            Prashraya  Student   \n",
       "8                Rajan  Student   \n",
       "9               Rajesh  Student   \n",
       "10  Scarlett Johansson  Student   \n",
       "11            Shashank  Student   \n",
       "12              Shital  Student   \n",
       "13               Suraj  Student   \n",
       "\n",
       "                                      Facial_Features   \n",
       "0   [-0.036052156, -0.308354, 0.046328023, 1.67468...  \\\n",
       "1   [0.43222705, 1.0748217, -0.12857997, -1.833244...   \n",
       "2   [0.1670312, -1.149379, 0.41227043, 1.351386, 0...   \n",
       "3   [0.94860345, -0.5583488, 0.0948473, -1.2796339...   \n",
       "4   [0.72012293, -1.4683535, -0.7775747, -1.460268...   \n",
       "5   [0.4857933, -0.6193172, -0.4072945, 1.068671, ...   \n",
       "6   [1.7085426, -0.7759952, -0.22737093, -1.247895...   \n",
       "7   [-0.8314713, -0.336633, 0.79281545, -0.1401238...   \n",
       "8   [-0.24466082, -1.858166, -1.2051669, 0.7937251...   \n",
       "9   [0.76098776, -0.24004512, -1.8921047, -1.49513...   \n",
       "10  [0.1913062, -0.48871636, -1.6904204, 0.4424574...   \n",
       "11  [1.7198377, -1.3376671, 0.065668054, 0.1987096...   \n",
       "12  [0.20928195, 0.084583424, 0.3257966, -0.381223...   \n",
       "13  [0.8105346, -0.6660106, 1.5781848, 0.5816831, ...   \n",
       "\n",
       "                     name_role  \n",
       "0            Aashutosh@Student  \n",
       "1       Angelina Jolie@Student  \n",
       "2               Ashish@Student  \n",
       "3         Barack Obama@Teacher  \n",
       "4          Chris Evans@Student  \n",
       "5       Morgan Freeman@Teacher  \n",
       "6                   Om@Student  \n",
       "7            Prashraya@Student  \n",
       "8                Rajan@Student  \n",
       "9               Rajesh@Student  \n",
       "10  Scarlett Johansson@Student  \n",
       "11            Shashank@Student  \n",
       "12              Shital@Student  \n",
       "13               Suraj@Student  "
      ]
     },
     "execution_count": 118,
     "metadata": {},
     "output_type": "execute_result"
    }
   ],
   "source": [
    "df['name_role'] = df['Name']+'@'+df['Role']\n",
    "df"
   ]
  },
  {
   "cell_type": "code",
   "execution_count": 119,
   "id": "94abf601",
   "metadata": {},
   "outputs": [
    {
     "data": {
      "text/plain": [
       "14"
      ]
     },
     "execution_count": 119,
     "metadata": {},
     "output_type": "execute_result"
    }
   ],
   "source": [
    "records = df[['name_role','Facial_Features']].to_dict(orient='records')\n",
    "len(records)"
   ]
  },
  {
   "cell_type": "markdown",
   "id": "6e0b2a90",
   "metadata": {},
   "source": [
    "## Save data in Redis\n",
    "- redis hashes\n",
    "- keyname = 'academy:register'"
   ]
  },
  {
   "cell_type": "code",
   "execution_count": 120,
   "id": "c51a449a",
   "metadata": {},
   "outputs": [],
   "source": [
    "for record in records:\n",
    "    name_role = record['name_role']\n",
    "    vector = record['Facial_Features']\n",
    "    \n",
    "    # convert numpy array into bytes\n",
    "    vector_bytes = vector.tobytes()\n",
    "    \n",
    "    # save data into redis cloud\n",
    "    r.hset(name='academy:register',key=name_role,value=vector_bytes)"
   ]
  },
  {
   "cell_type": "code",
   "execution_count": 121,
   "id": "7259b365",
   "metadata": {},
   "outputs": [
    {
     "data": {
      "text/plain": [
       "dtype('float32')"
      ]
     },
     "execution_count": 121,
     "metadata": {},
     "output_type": "execute_result"
    }
   ],
   "source": [
    "vector.dtype"
   ]
  },
  {
   "cell_type": "markdown",
   "id": "9a958caa",
   "metadata": {},
   "source": [
    "### Retrive Records from Redis"
   ]
  },
  {
   "cell_type": "code",
   "execution_count": 122,
   "id": "9bbfbbe9",
   "metadata": {},
   "outputs": [
    {
     "data": {
      "text/plain": [
       "b'Rajan@Student'                 b'^\\x88z\\xbeb\\xd8\\xed\\xbf\\xe9B\\x9a\\xbf\\x911K?9...\n",
       "b'Barack Obama@Teacher'          b'\\xad\\xd7r?\\xf2\\xef\\x0e\\xbfM?\\xc2=\\x0b\\xcb\\xa...\n",
       "b'Angelina Jolie@Student'        b'\\xddL\\xdd>\\xc2\\x93\\x89?x\\xaa\\x03\\xbe\\xbd\\xa7...\n",
       "b'Om@Student'                    b'\\x86\\xb1\\xda?\\x9f\\xa7F\\xbf\\xed\\xd3h\\xbe\\x06\\...\n",
       "b'Chris Evans@Student'           b'\\xfaY8?\\x02\\xf3\\xbb\\xbf#\\x0fG\\xbf\\x15\\xea\\xb...\n",
       "b'Suraj@Student'                 b'2\\x7fO?\\xac\\x7f*\\xbf\\xf6\\x01\\xca?/\\xe9\\x14?R...\n",
       "b'Scarlett Johansson@Student'    b'\\xc6\\xe5C>\\x089\\xfa\\xbe\\xb2_\\xd8\\xbf\\xc8\\x89...\n",
       "b'@'                                           b'\\x00\\x00\\x00\\x00\\x00\\x00\\xf8\\x7f'\n",
       "b'Aashutosh@Student'             b'm\\xab\\x13\\xbd\\x93\\xe0\\x9d\\xbet\\xc2==\\x15\\\\\\x...\n",
       "b'Shital@Student'                b'\\x02NV>\\x13:\\xad=\\xd0\\xce\\xa6>\\xca/\\xc3\\xbeV...\n",
       "b'Morgan Freeman@Teacher'        b'\\xe6\\xb9\\xf8>\\x92\\x8b\\x1e\\xbf\\xe8\\x88\\xd0\\xb...\n",
       "b'Shashank@Student'              b'\\xa4#\\xdc?\\xad8\\xab\\xbf\\xf9|\\x86=\\x8bzK>\\x80...\n",
       "b'Prashraya@Student'             b'N\\xdbT\\xbf)[\\xac\\xbe\\xf4\\xf5J?\\x9f|\\x0f\\xbe1...\n",
       "b'Ashish@Student'                b':\\n+>\\xda\\x1e\\x93\\xbf\\x1c\\x15\\xd3>7\\xfa\\xac?...\n",
       "b'Rajesh@Student'                b'\\x18\\xd0B?c\\xceu\\xbe}0\\xf2\\xbf\\xb0`\\xbf\\xbf\\...\n",
       "dtype: object"
      ]
     },
     "execution_count": 122,
     "metadata": {},
     "output_type": "execute_result"
    }
   ],
   "source": [
    "retrive_dict = r.hgetall(name='academy:register')\n",
    "retrive_series = pd.Series(retrive_dict)\n",
    "retrive_series"
   ]
  },
  {
   "cell_type": "code",
   "execution_count": 123,
   "id": "4cb3ff01",
   "metadata": {},
   "outputs": [],
   "source": [
    "#np.frombuffer(retrive_series[b'Morgan Freeman@Teacher'],dtype=np.float32).shape\n",
    "retrive_series = retrive_series.apply(lambda x: np.frombuffer(x,dtype=np.float32))\n",
    "index = retrive_series.index\n",
    "index = list(map(lambda x: x.decode(), index))"
   ]
  },
  {
   "cell_type": "code",
   "execution_count": 124,
   "id": "7ff52f5c",
   "metadata": {},
   "outputs": [],
   "source": [
    "retrive_series.index = index"
   ]
  },
  {
   "cell_type": "code",
   "execution_count": 125,
   "id": "846603fc",
   "metadata": {},
   "outputs": [
    {
     "data": {
      "text/html": [
       "<div>\n",
       "<style scoped>\n",
       "    .dataframe tbody tr th:only-of-type {\n",
       "        vertical-align: middle;\n",
       "    }\n",
       "\n",
       "    .dataframe tbody tr th {\n",
       "        vertical-align: top;\n",
       "    }\n",
       "\n",
       "    .dataframe thead th {\n",
       "        text-align: right;\n",
       "    }\n",
       "</style>\n",
       "<table border=\"1\" class=\"dataframe\">\n",
       "  <thead>\n",
       "    <tr style=\"text-align: right;\">\n",
       "      <th></th>\n",
       "      <th>name_role</th>\n",
       "      <th>facial_features</th>\n",
       "    </tr>\n",
       "  </thead>\n",
       "  <tbody>\n",
       "    <tr>\n",
       "      <th>0</th>\n",
       "      <td>Rajan@Student</td>\n",
       "      <td>[-0.24466082, -1.858166, -1.2051669, 0.7937251...</td>\n",
       "    </tr>\n",
       "    <tr>\n",
       "      <th>1</th>\n",
       "      <td>Barack Obama@Teacher</td>\n",
       "      <td>[0.94860345, -0.5583488, 0.0948473, -1.2796339...</td>\n",
       "    </tr>\n",
       "    <tr>\n",
       "      <th>2</th>\n",
       "      <td>Angelina Jolie@Student</td>\n",
       "      <td>[0.43222705, 1.0748217, -0.12857997, -1.833244...</td>\n",
       "    </tr>\n",
       "    <tr>\n",
       "      <th>3</th>\n",
       "      <td>Om@Student</td>\n",
       "      <td>[1.7085426, -0.7759952, -0.22737093, -1.247895...</td>\n",
       "    </tr>\n",
       "    <tr>\n",
       "      <th>4</th>\n",
       "      <td>Chris Evans@Student</td>\n",
       "      <td>[0.72012293, -1.4683535, -0.7775747, -1.460268...</td>\n",
       "    </tr>\n",
       "    <tr>\n",
       "      <th>5</th>\n",
       "      <td>Suraj@Student</td>\n",
       "      <td>[0.8105346, -0.6660106, 1.5781848, 0.5816831, ...</td>\n",
       "    </tr>\n",
       "    <tr>\n",
       "      <th>6</th>\n",
       "      <td>Scarlett Johansson@Student</td>\n",
       "      <td>[0.1913062, -0.48871636, -1.6904204, 0.4424574...</td>\n",
       "    </tr>\n",
       "    <tr>\n",
       "      <th>7</th>\n",
       "      <td>@</td>\n",
       "      <td>[0.0, nan]</td>\n",
       "    </tr>\n",
       "    <tr>\n",
       "      <th>8</th>\n",
       "      <td>Aashutosh@Student</td>\n",
       "      <td>[-0.036052156, -0.308354, 0.046328023, 1.67468...</td>\n",
       "    </tr>\n",
       "    <tr>\n",
       "      <th>9</th>\n",
       "      <td>Shital@Student</td>\n",
       "      <td>[0.20928195, 0.084583424, 0.3257966, -0.381223...</td>\n",
       "    </tr>\n",
       "    <tr>\n",
       "      <th>10</th>\n",
       "      <td>Morgan Freeman@Teacher</td>\n",
       "      <td>[0.4857933, -0.6193172, -0.4072945, 1.068671, ...</td>\n",
       "    </tr>\n",
       "    <tr>\n",
       "      <th>11</th>\n",
       "      <td>Shashank@Student</td>\n",
       "      <td>[1.7198377, -1.3376671, 0.065668054, 0.1987096...</td>\n",
       "    </tr>\n",
       "    <tr>\n",
       "      <th>12</th>\n",
       "      <td>Prashraya@Student</td>\n",
       "      <td>[-0.8314713, -0.336633, 0.79281545, -0.1401238...</td>\n",
       "    </tr>\n",
       "    <tr>\n",
       "      <th>13</th>\n",
       "      <td>Ashish@Student</td>\n",
       "      <td>[0.1670312, -1.149379, 0.41227043, 1.351386, 0...</td>\n",
       "    </tr>\n",
       "    <tr>\n",
       "      <th>14</th>\n",
       "      <td>Rajesh@Student</td>\n",
       "      <td>[0.76098776, -0.24004512, -1.8921047, -1.49513...</td>\n",
       "    </tr>\n",
       "  </tbody>\n",
       "</table>\n",
       "</div>"
      ],
      "text/plain": [
       "                     name_role   \n",
       "0                Rajan@Student  \\\n",
       "1         Barack Obama@Teacher   \n",
       "2       Angelina Jolie@Student   \n",
       "3                   Om@Student   \n",
       "4          Chris Evans@Student   \n",
       "5                Suraj@Student   \n",
       "6   Scarlett Johansson@Student   \n",
       "7                            @   \n",
       "8            Aashutosh@Student   \n",
       "9               Shital@Student   \n",
       "10      Morgan Freeman@Teacher   \n",
       "11            Shashank@Student   \n",
       "12           Prashraya@Student   \n",
       "13              Ashish@Student   \n",
       "14              Rajesh@Student   \n",
       "\n",
       "                                      facial_features  \n",
       "0   [-0.24466082, -1.858166, -1.2051669, 0.7937251...  \n",
       "1   [0.94860345, -0.5583488, 0.0948473, -1.2796339...  \n",
       "2   [0.43222705, 1.0748217, -0.12857997, -1.833244...  \n",
       "3   [1.7085426, -0.7759952, -0.22737093, -1.247895...  \n",
       "4   [0.72012293, -1.4683535, -0.7775747, -1.460268...  \n",
       "5   [0.8105346, -0.6660106, 1.5781848, 0.5816831, ...  \n",
       "6   [0.1913062, -0.48871636, -1.6904204, 0.4424574...  \n",
       "7                                          [0.0, nan]  \n",
       "8   [-0.036052156, -0.308354, 0.046328023, 1.67468...  \n",
       "9   [0.20928195, 0.084583424, 0.3257966, -0.381223...  \n",
       "10  [0.4857933, -0.6193172, -0.4072945, 1.068671, ...  \n",
       "11  [1.7198377, -1.3376671, 0.065668054, 0.1987096...  \n",
       "12  [-0.8314713, -0.336633, 0.79281545, -0.1401238...  \n",
       "13  [0.1670312, -1.149379, 0.41227043, 1.351386, 0...  \n",
       "14  [0.76098776, -0.24004512, -1.8921047, -1.49513...  "
      ]
     },
     "execution_count": 125,
     "metadata": {},
     "output_type": "execute_result"
    }
   ],
   "source": [
    "retrive_df = retrive_series.to_frame().reset_index()\n",
    "retrive_df.columns = ['name_role','facial_features']\n",
    "retrive_df"
   ]
  },
  {
   "cell_type": "markdown",
   "id": "461d37ce",
   "metadata": {},
   "source": [
    "### Registration Form"
   ]
  },
  {
   "cell_type": "code",
   "execution_count": 126,
   "id": "0e41c1f8",
   "metadata": {},
   "outputs": [],
   "source": [
    "import cv2\n",
    "from insightface.app import FaceAnalysis"
   ]
  },
  {
   "cell_type": "code",
   "execution_count": 127,
   "id": "d001aaf5",
   "metadata": {},
   "outputs": [
    {
     "name": "stdout",
     "output_type": "stream",
     "text": [
      "Applied providers: ['CPUExecutionProvider'], with options: {'CPUExecutionProvider': {}}\n",
      "find model: insightface_model/models/buffalo_sc/det_500m.onnx detection [1, 3, '?', '?'] 127.5 128.0\n",
      "Applied providers: ['CPUExecutionProvider'], with options: {'CPUExecutionProvider': {}}\n",
      "find model: insightface_model/models/buffalo_sc/w600k_mbf.onnx recognition ['None', 3, 112, 112] 127.5 127.5\n",
      "set det-size: (640, 640)\n"
     ]
    }
   ],
   "source": [
    "# configure face analysis\n",
    "faceapp = FaceAnalysis(name='buffalo_sc',\n",
    "                       root='insightface_model',\n",
    "                       providers=['CPUExecutionProvider'])\n",
    "\n",
    "faceapp.prepare(ctx_id=0, det_size=(640,640), det_thresh=0.5)\n",
    "# warning: don't set det_thresh < 0.3"
   ]
  },
  {
   "cell_type": "markdown",
   "metadata": {},
   "source": []
  },
  {
   "cell_type": "markdown",
   "id": "9d4d1ba8",
   "metadata": {},
   "source": [
    "##### Step-1: Collect Person and Role"
   ]
  },
  {
   "cell_type": "code",
   "execution_count": 128,
   "id": "26c2565a",
   "metadata": {},
   "outputs": [
    {
     "name": "stdout",
     "output_type": "stream",
     "text": [
      "Invalid entry try again\n",
      "Invalid entry try again\n",
      "Invalid entry try again\n",
      "Your name =  \n",
      "Your role = \n",
      "Key = @\n"
     ]
    }
   ],
   "source": [
    "# python input\n",
    "person_name = input('Enter your name: ')\n",
    "\n",
    "trials = 3\n",
    "for i in range(trials):\n",
    "    role = input(\"\"\"\n",
    "    Please choose\n",
    "    1. Student\n",
    "    2. Teacher\n",
    "\n",
    "    Enter number either 1 or 2\n",
    "    \"\"\")\n",
    "    \n",
    "    if role in ('1','2'):\n",
    "        if role == '1':\n",
    "            role = 'Student'\n",
    "        else:\n",
    "            role = 'Teacher'\n",
    "        \n",
    "        break\n",
    "    else:\n",
    "        print('Invalid entry try again')\n",
    "        if i == 3:\n",
    "            print('Exceeds maximum trails')\n",
    "            \n",
    "key = person_name +'@'+ role\n",
    "print('Your name = ', person_name)\n",
    "print('Your role =', role)\n",
    "print('Key =',key)"
   ]
  },
  {
   "cell_type": "markdown",
   "id": "fc205991",
   "metadata": {},
   "source": [
    "##### Step-2: Collect Samples"
   ]
  },
  {
   "cell_type": "code",
   "execution_count": 129,
   "id": "a20da5fa",
   "metadata": {},
   "outputs": [
    {
     "name": "stdout",
     "output_type": "stream",
     "text": [
      "Unable to read camera\n"
     ]
    }
   ],
   "source": [
    "cap = cv2.VideoCapture(0) # 0 default camera, 1 external camera\n",
    "face_embeddings = []\n",
    "sample = 0\n",
    "while True:\n",
    "    ret, frame = cap.read()\n",
    "    if ret == False:\n",
    "        print('Unable to read camera')\n",
    "        break\n",
    "    \n",
    "    # get results from insightface model\n",
    "    results = faceapp.get(frame,max_num=1)\n",
    "    for res in results:\n",
    "        sample += 1\n",
    "        x1, y1, x2, y2 = res['bbox'].astype(int)\n",
    "        cv2.rectangle(frame, (x1,y1),(x2,y2),(0,255,0),1)\n",
    "        \n",
    "        # facial features\n",
    "        embeddings = res['embedding']\n",
    "        face_embeddings.append(embeddings)\n",
    "        \n",
    "    if sample >= 200: \n",
    "        break\n",
    "    \n",
    "    cv2.imshow('frame',frame)\n",
    "    if cv2.waitKey(1) == ord('q'): # this is trigger only when I press letter q (lowercase q) in my keyboard\n",
    "        break\n",
    "        \n",
    "cap.release()\n",
    "cv2.destroyAllWindows()"
   ]
  },
  {
   "cell_type": "code",
   "execution_count": 130,
   "id": "a18b8299",
   "metadata": {},
   "outputs": [
    {
     "data": {
      "text/plain": [
       "0"
      ]
     },
     "execution_count": 130,
     "metadata": {},
     "output_type": "execute_result"
    }
   ],
   "source": [
    "len(face_embeddings)"
   ]
  },
  {
   "cell_type": "markdown",
   "id": "dab1e76d",
   "metadata": {},
   "source": [
    "##### Step-3: Optimize Data & Save in Redis Database"
   ]
  },
  {
   "cell_type": "code",
   "execution_count": 131,
   "id": "95e9c35b",
   "metadata": {},
   "outputs": [
    {
     "name": "stderr",
     "output_type": "stream",
     "text": [
      "/var/folders/27/fm42dqp13q36grh_574sxpjm0000gn/T/ipykernel_2479/2303644687.py:1: RuntimeWarning: Mean of empty slice.\n",
      "  x_mean = np.asarray(face_embeddings).mean(axis=0)\n",
      "/Library/Frameworks/Python.framework/Versions/3.10/lib/python3.10/site-packages/numpy/core/_methods.py:192: RuntimeWarning: invalid value encountered in scalar divide\n",
      "  ret = ret.dtype.type(ret / rcount)\n"
     ]
    },
    {
     "data": {
      "text/plain": [
       "()"
      ]
     },
     "execution_count": 131,
     "metadata": {},
     "output_type": "execute_result"
    }
   ],
   "source": [
    "x_mean = np.asarray(face_embeddings).mean(axis=0)\n",
    "x_mean.shape"
   ]
  },
  {
   "cell_type": "code",
   "execution_count": 132,
   "id": "06d36b5c",
   "metadata": {},
   "outputs": [],
   "source": [
    "# convert into bytes\n",
    "x_mean_bytes = x_mean.tobytes()"
   ]
  },
  {
   "cell_type": "code",
   "execution_count": 133,
   "id": "39ee919b",
   "metadata": {},
   "outputs": [
    {
     "data": {
      "text/plain": [
       "0"
      ]
     },
     "execution_count": 133,
     "metadata": {},
     "output_type": "execute_result"
    }
   ],
   "source": [
    "# save key and facial bytes into redis database\n",
    "r.hset(name='academy:register',key=key,value=x_mean_bytes)"
   ]
  }
 ],
 "metadata": {
  "kernelspec": {
   "display_name": "Python 3 (ipykernel)",
   "language": "python",
   "name": "python3"
  },
  "language_info": {
   "codemirror_mode": {
    "name": "ipython",
    "version": 3
   },
   "file_extension": ".py",
   "mimetype": "text/x-python",
   "name": "python",
   "nbconvert_exporter": "python",
   "pygments_lexer": "ipython3",
   "version": "3.10.11"
  }
 },
 "nbformat": 4,
 "nbformat_minor": 5
}
