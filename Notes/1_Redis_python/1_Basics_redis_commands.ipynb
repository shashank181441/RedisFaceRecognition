{
 "cells": [
  {
   "cell_type": "code",
   "execution_count": 1,
   "id": "e228abb0",
   "metadata": {},
   "outputs": [],
   "source": [
    "import redis"
   ]
  },
  {
   "cell_type": "code",
   "execution_count": 2,
   "id": "e04111cc",
   "metadata": {},
   "outputs": [],
   "source": [
    "hostname = 'redis-18692.c57.us-east-1-4.ec2.cloud.redislabs.com'\n",
    "port = 18692\n",
    "password = 'wCneC8tYJRuw0ovU9Kacbr9kgY4UmQdb'\n",
    "\n",
    "r = redis.Redis(\n",
    "                host=hostname,\n",
    "                port=port, \n",
    "                password=password)"
   ]
  },
  {
   "cell_type": "markdown",
   "id": "3f1d2c25",
   "metadata": {},
   "source": [
    "## Redis Strings\n",
    "- set\n",
    "- get"
   ]
  },
  {
   "cell_type": "code",
   "execution_count": 3,
   "id": "48ab1765",
   "metadata": {},
   "outputs": [
    {
     "data": {
      "text/plain": [
       "True"
      ]
     },
     "execution_count": 3,
     "metadata": {},
     "output_type": "execute_result"
    }
   ],
   "source": [
    "r.set(name='foo',value='bar')"
   ]
  },
  {
   "cell_type": "code",
   "execution_count": 4,
   "id": "e9cec915",
   "metadata": {},
   "outputs": [
    {
     "data": {
      "text/plain": [
       "b'bar'"
      ]
     },
     "execution_count": 4,
     "metadata": {},
     "output_type": "execute_result"
    }
   ],
   "source": [
    "r.get(name='foo')"
   ]
  },
  {
   "cell_type": "code",
   "execution_count": 5,
   "id": "1a80254f",
   "metadata": {},
   "outputs": [
    {
     "data": {
      "text/plain": [
       "[b'HELLO', b'foo', b'MESSAGE', b'KEY', b'mykey2', b'mykey4', b'MYKEY']"
      ]
     },
     "execution_count": 5,
     "metadata": {},
     "output_type": "execute_result"
    }
   ],
   "source": [
    "r.keys()"
   ]
  },
  {
   "cell_type": "code",
   "execution_count": null,
   "id": "c8c3ec3b",
   "metadata": {},
   "outputs": [],
   "source": [
    "r.hset()"
   ]
  },
  {
   "cell_type": "code",
   "execution_count": null,
   "id": "ce53cd9a",
   "metadata": {},
   "outputs": [],
   "source": []
  },
  {
   "cell_type": "code",
   "execution_count": null,
   "id": "f6910eb9",
   "metadata": {},
   "outputs": [],
   "source": []
  },
  {
   "cell_type": "code",
   "execution_count": 3,
   "id": "3ad4f96b",
   "metadata": {},
   "outputs": [
    {
     "data": {
      "text/plain": [
       "[b'academy:register',\n",
       " b'myhash1',\n",
       " b'MESSAGE',\n",
       " b'foo',\n",
       " b'person:1',\n",
       " b'KEY',\n",
       " b'MYKEY',\n",
       " b'mykey4',\n",
       " b'temp_array',\n",
       " b'HELLO',\n",
       " b'attendance:logs',\n",
       " b'mykey2']"
      ]
     },
     "execution_count": 3,
     "metadata": {},
     "output_type": "execute_result"
    }
   ],
   "source": [
    "r.keys()"
   ]
  },
  {
   "cell_type": "code",
   "execution_count": 8,
   "id": "1461c19d",
   "metadata": {},
   "outputs": [],
   "source": [
    "import numpy as np"
   ]
  },
  {
   "cell_type": "code",
   "execution_count": null,
   "id": "332f202e",
   "metadata": {},
   "outputs": [],
   "source": []
  },
  {
   "cell_type": "code",
   "execution_count": 7,
   "id": "7259dc1e",
   "metadata": {},
   "outputs": [
    {
     "data": {
      "text/plain": [
       "45"
      ]
     },
     "execution_count": 7,
     "metadata": {},
     "output_type": "execute_result"
    }
   ],
   "source": [
    "len(r.srandmember('temp_array',100))"
   ]
  },
  {
   "cell_type": "code",
   "execution_count": 10,
   "id": "3a59fb37",
   "metadata": {},
   "outputs": [],
   "source": [
    "list_array = list(map(lambda x: np.frombuffer(x,dtype=np.float32), \n",
    "         r.srandmember('temp_array',100)))"
   ]
  },
  {
   "cell_type": "code",
   "execution_count": 11,
   "id": "aee893a9",
   "metadata": {},
   "outputs": [],
   "source": [
    "x = np.asarray(list_array)\n",
    "x_mean = x.mean(axis=0)"
   ]
  },
  {
   "cell_type": "code",
   "execution_count": null,
   "id": "76e8b9a9",
   "metadata": {},
   "outputs": [],
   "source": []
  },
  {
   "cell_type": "code",
   "execution_count": null,
   "id": "e77017fc",
   "metadata": {},
   "outputs": [],
   "source": [
    "np.loadtxt('temp')"
   ]
  },
  {
   "cell_type": "code",
   "execution_count": null,
   "id": "434f5be4",
   "metadata": {},
   "outputs": [],
   "source": []
  },
  {
   "cell_type": "code",
   "execution_count": null,
   "id": "ad3976ae",
   "metadata": {},
   "outputs": [],
   "source": []
  },
  {
   "cell_type": "code",
   "execution_count": null,
   "id": "6c2b73af",
   "metadata": {},
   "outputs": [],
   "source": []
  },
  {
   "cell_type": "code",
   "execution_count": null,
   "id": "b84c92b4",
   "metadata": {},
   "outputs": [],
   "source": []
  }
 ],
 "metadata": {
  "kernelspec": {
   "display_name": "Python 3 (ipykernel)",
   "language": "python",
   "name": "python3"
  },
  "language_info": {
   "codemirror_mode": {
    "name": "ipython",
    "version": 3
   },
   "file_extension": ".py",
   "mimetype": "text/x-python",
   "name": "python",
   "nbconvert_exporter": "python",
   "pygments_lexer": "ipython3",
   "version": "3.10.9"
  }
 },
 "nbformat": 4,
 "nbformat_minor": 5
}
